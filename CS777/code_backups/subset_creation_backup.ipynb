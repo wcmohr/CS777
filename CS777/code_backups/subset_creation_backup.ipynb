{
 "cells": [
  {
   "cell_type": "code",
   "execution_count": 1,
   "id": "4db364e5-9991-4e39-9860-a5139fcb688f",
   "metadata": {},
   "outputs": [],
   "source": [
    "import os\n",
    "import pandas as pd\n",
    "import numpy as np\n"
   ]
  },
  {
   "cell_type": "code",
   "execution_count": 2,
   "id": "c8657f49-c40f-46f1-a074-0a905fb53ee9",
   "metadata": {},
   "outputs": [],
   "source": [
    "import matplotlib.pyplot as plt"
   ]
  },
  {
   "cell_type": "code",
   "execution_count": 3,
   "id": "63524d37-4023-481c-9110-c4404f00b998",
   "metadata": {},
   "outputs": [],
   "source": [
    "import seaborn as sns"
   ]
  },
  {
   "cell_type": "code",
   "execution_count": 4,
   "id": "14363561-54b7-4986-9d51-a5d02c7aa696",
   "metadata": {},
   "outputs": [],
   "source": [
    "from scipy.stats.stats import pearsonr"
   ]
  },
  {
   "cell_type": "code",
   "execution_count": 5,
   "id": "df280013-91d4-43eb-8ab7-779be0e6d594",
   "metadata": {},
   "outputs": [
    {
     "data": {
      "text/plain": [
       "'/Users/williammohr/BU/CS777/01_A'"
      ]
     },
     "execution_count": 5,
     "metadata": {},
     "output_type": "execute_result"
    }
   ],
   "source": [
    "os.getcwd()"
   ]
  },
  {
   "cell_type": "code",
   "execution_count": 6,
   "id": "42ead7cb-5eff-4f36-bdcc-d0a902383bbe",
   "metadata": {},
   "outputs": [],
   "source": [
    "if (os.getcwd() != '/Users/williammohr/BU/CS777/01_A'):\n",
    "    os.chdir('/Users/williammohr/BU/CS777/01_A')"
   ]
  },
  {
   "cell_type": "code",
   "execution_count": 7,
   "id": "73aa7258-87f3-4dc6-97e3-203fa8eb6d12",
   "metadata": {
    "scrolled": true,
    "tags": []
   },
   "outputs": [],
   "source": [
    "features = [\"UserID\",\"MovieID\",\"Rating\",\"Timestamp\"]"
   ]
  },
  {
   "cell_type": "code",
   "execution_count": 9,
   "id": "053fb3d4-a999-4ec0-994f-33549d72ee79",
   "metadata": {},
   "outputs": [],
   "source": [
    "ratings_df = pd.read_csv(\"./movie_files/ratings.dat\", delimiter=\":\", \n",
    "                         header=None).dropna(axis=\"columns\").rename(columns=dict(zip(range(0,6,2),features)))"
   ]
  },
  {
   "cell_type": "code",
   "execution_count": 10,
   "id": "9e56a8ec-221c-409d-bcab-d333cdc1ffe4",
   "metadata": {},
   "outputs": [
    {
     "data": {
      "text/plain": [
       "3"
      ]
     },
     "execution_count": 10,
     "metadata": {},
     "output_type": "execute_result"
    }
   ],
   "source": [
    "a = 4\n",
    "a -= 1\n",
    "a "
   ]
  },
  {
   "cell_type": "code",
   "execution_count": 11,
   "id": "0bd47713-f526-4c26-985b-fbd680e83cb1",
   "metadata": {},
   "outputs": [],
   "source": [
    "subsets = []\n",
    "splits = 5\n",
    "n = ratings_df.shape[0]\n",
    "while splits > 0:\n",
    "    subset_df = ratings_df.sample(round(ratings_df.shape[0]/splits), \n",
    "                                  random_state = 0)\n",
    "    subsets.append(subset_df)\n",
    "    ratings_df.drop(index = subset_df.index, inplace = True)\n",
    "    splits -= 1"
   ]
  },
  {
   "cell_type": "code",
   "execution_count": 15,
   "id": "e55038c7-2462-4d39-99a5-1a10225f7491",
   "metadata": {},
   "outputs": [],
   "source": [
    "x_fold = 1\n",
    "for s in subsets:\n",
    "    s.to_csv(\"./ratings_subsets/ratings_\" + str(x_fold).zfill(2))\n",
    "    x_fold += 1\n"
   ]
  }
 ],
 "metadata": {
  "kernelspec": {
   "display_name": "Python 3 (ipykernel)",
   "language": "python",
   "name": "python3"
  },
  "language_info": {
   "codemirror_mode": {
    "name": "ipython",
    "version": 3
   },
   "file_extension": ".py",
   "mimetype": "text/x-python",
   "name": "python",
   "nbconvert_exporter": "python",
   "pygments_lexer": "ipython3",
   "version": "3.9.13"
  }
 },
 "nbformat": 4,
 "nbformat_minor": 5
}
